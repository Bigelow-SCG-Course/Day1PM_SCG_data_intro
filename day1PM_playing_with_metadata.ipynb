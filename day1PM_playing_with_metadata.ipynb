{
 "cells": [
  {
   "cell_type": "markdown",
   "id": "5abf5497-6f58-433a-ac93-bf57d812bb0f",
   "metadata": {},
   "source": [
    "### Day 1 Afternoon: Notebook to Explore Metadata associated with Single Amplified Genomes\n",
    "\n",
    "**Note:** Make sure you are using the biopy kernel when running this notebook."
   ]
  },
  {
   "cell_type": "code",
   "execution_count": 1,
   "id": "c40e2a4e-2f16-4053-8879-0358496313e7",
   "metadata": {},
   "outputs": [],
   "source": [
    "import pandas as pd       # data frame importing and manipulation\n",
    "import matplotlib.pyplot as plt  # plotting\n",
    "import seaborn as sns # additional plotting library that allows us to make nice looking, simple plots easily\n",
    "from collections import Counter  # Simple function that will count items in a list\n",
    "\n",
    "plt.rcParams[\"figure.figsize\"] = (8,6)"
   ]
  },
  {
   "cell_type": "code",
   "execution_count": 2,
   "id": "b8f7a3c0-b875-4762-9598-fb14a4701649",
   "metadata": {},
   "outputs": [],
   "source": [
    "assembly_stats_file = \"tbls/AG-910_assembly_stats_updated.csv\"\n",
    "df = pd.read_csv(assembly_stats_file)"
   ]
  },
  {
   "cell_type": "markdown",
   "id": "0399bdc9-a121-4471-9a16-d9ded29a5ec0",
   "metadata": {},
   "source": [
    "#### Let's get a handle on this dataframe\n",
    "\n",
    "What columns are in this data frame?"
   ]
  },
  {
   "cell_type": "code",
   "execution_count": 3,
   "id": "f718651a-ecdf-484d-8dc5-936dd3cee39c",
   "metadata": {},
   "outputs": [
    {
     "data": {
      "text/plain": [
       "Index(['Sample_ID', 'well_type', 'wga_cp', 'wgs_run_id', 'raw_read_count',\n",
       "       'final_contigs_count', 'final_assembly_length', 'max_contig_length',\n",
       "       'gc_content', 'checkM_estimated_completeness', 'number_multi_copy',\n",
       "       'checkM_classification', 'SSU_classification_1'],\n",
       "      dtype='object')"
      ]
     },
     "execution_count": 3,
     "metadata": {},
     "output_type": "execute_result"
    }
   ],
   "source": [
    "df.columns"
   ]
  },
  {
   "cell_type": "markdown",
   "id": "16b401c8-9e3b-4c4c-bf55-61fe0faf2de4",
   "metadata": {},
   "source": [
    "What sorts of well types do we have?"
   ]
  },
  {
   "cell_type": "code",
   "execution_count": 4,
   "id": "82e53601-78f0-4226-87c1-4aca2cecd38b",
   "metadata": {},
   "outputs": [
    {
     "data": {
      "text/plain": [
       "Counter({'1 cell': 317, 'No drop': 64, '10 cells': 3})"
      ]
     },
     "execution_count": 4,
     "metadata": {},
     "output_type": "execute_result"
    }
   ],
   "source": [
    "Counter(df['well_type'])"
   ]
  },
  {
   "cell_type": "markdown",
   "id": "e9d7c86f-1412-48ae-b8d7-170f72f82c59",
   "metadata": {},
   "source": [
    "* '1 cell' indicates our single sorted cells\n",
    "* 'No drop' are negative controls\n",
    "* '10 cells' are positive controls"
   ]
  },
  {
   "cell_type": "code",
   "execution_count": null,
   "id": "d3d64b2f-e478-464f-a17b-92398bd3bca2",
   "metadata": {},
   "outputs": [],
   "source": []
  },
  {
   "cell_type": "markdown",
   "id": "9888cc26-fff1-4790-a944-7db8e0d25a92",
   "metadata": {},
   "source": [
    "Let's look at how the different well types line up:"
   ]
  },
  {
   "cell_type": "code",
   "execution_count": 5,
   "id": "fa2bf9ab-0dd1-45ed-92cb-dc0212daa3c4",
   "metadata": {},
   "outputs": [
    {
     "data": {
      "text/plain": [
       "<AxesSubplot:xlabel='well_type', ylabel='raw_read_count'>"
      ]
     },
     "execution_count": 5,
     "metadata": {},
     "output_type": "execute_result"
    },
    {
     "data": {
      "image/png": "[encoded data removed]",
      "text/plain": [
       "<Figure size 576x432 with 1 Axes>"
      ]
     },
     "metadata": {
      "needs_background": "light"
     },
     "output_type": "display_data"
    }
   ],
   "source": [
    "#df['raw_read_count'] = [int(i.replace(',','')) for i in df['raw_read_count']]\n",
    "sns.boxplot(x = 'well_type', y = 'raw_read_count', data = df)"
   ]
  },
  {
   "cell_type": "code",
   "execution_count": 6,
   "id": "165a0c40-0cae-4e9f-b57e-ed33f792d116",
   "metadata": {},
   "outputs": [
    {
     "data": {
      "text/plain": [
       "<AxesSubplot:xlabel='well_type', ylabel='final_assembly_length'>"
      ]
     },
     "execution_count": 6,
     "metadata": {},
     "output_type": "execute_result"
    },
    {
     "data": {
      "image/png": "[encoded data removed]",
      "text/plain": [
       "<Figure size 576x432 with 1 Axes>"
      ]
     },
     "metadata": {
      "needs_background": "light"
     },
     "output_type": "display_data"
    }
   ],
   "source": [
    "df[df['well_type'] == 'No drop'].dropna(subset = ['final_assembly_length'])\n",
    "sns.boxplot(x = 'well_type', y = 'final_assembly_length', data = df)"
   ]
  },
  {
   "cell_type": "markdown",
   "id": "86d3fd13-d9dd-4015-a46c-1f3978371cfb",
   "metadata": {},
   "source": [
    "Now let's consider only what we'd call successful assemblies.  Those 1 cell sorts for which the final_assembly_length is greater than 20kb."
   ]
  },
  {
   "cell_type": "code",
   "execution_count": 7,
   "id": "f95f9e83-17b6-47e4-8fb0-368df9bf56d3",
   "metadata": {},
   "outputs": [],
   "source": [
    "# let's examine 'successful' cells, those with a final assembly length > 20kb\n",
    "\n",
    "gdf = df[(df['final_assembly_length'] >= 20000) & (df['well_type'] == '1 cell')]"
   ]
  },
  {
   "cell_type": "markdown",
   "id": "50d458bb-6cb2-44a4-9e08-8ab804d9b8db",
   "metadata": {},
   "source": [
    "To get an overall description of the numeric columns, you can use the pd.describe() method:"
   ]
  },
  {
   "cell_type": "code",
   "execution_count": 8,
   "id": "d589f15f-7fae-4247-bb27-6cb42a10c2d4",
   "metadata": {},
   "outputs": [
    {
     "data": {
      "text/html": [
       "<div>\n",
       "<style scoped>\n",
       "    .dataframe tbody tr th:only-of-type {\n",
       "        vertical-align: middle;\n",
       "    }\n",
       "\n",
       "    .dataframe tbody tr th {\n",
       "        vertical-align: top;\n",
       "    }\n",
       "\n",
       "    .dataframe thead th {\n",
       "        text-align: right;\n",
       "    }\n",
       "</style>\n",
       "<table border=\"1\" class=\"dataframe\">\n",
       "  <thead>\n",
       "    <tr style=\"text-align: right;\">\n",
       "      <th></th>\n",
       "      <th>wga_cp</th>\n",
       "      <th>raw_read_count</th>\n",
       "      <th>final_contigs_count</th>\n",
       "      <th>final_assembly_length</th>\n",
       "      <th>max_contig_length</th>\n",
       "      <th>gc_content</th>\n",
       "      <th>checkM_estimated_completeness</th>\n",
       "      <th>number_multi_copy</th>\n",
       "    </tr>\n",
       "  </thead>\n",
       "  <tbody>\n",
       "    <tr>\n",
       "      <th>count</th>\n",
       "      <td>226.000000</td>\n",
       "      <td>2.260000e+02</td>\n",
       "      <td>226.000000</td>\n",
       "      <td>2.260000e+02</td>\n",
       "      <td>226.000000</td>\n",
       "      <td>226.000000</td>\n",
       "      <td>226.000000</td>\n",
       "      <td>226.000000</td>\n",
       "    </tr>\n",
       "    <tr>\n",
       "      <th>mean</th>\n",
       "      <td>2.543889</td>\n",
       "      <td>2.222619e+06</td>\n",
       "      <td>30.070796</td>\n",
       "      <td>5.882286e+05</td>\n",
       "      <td>97201.115044</td>\n",
       "      <td>31.726725</td>\n",
       "      <td>37.688451</td>\n",
       "      <td>0.022124</td>\n",
       "    </tr>\n",
       "    <tr>\n",
       "      <th>std</th>\n",
       "      <td>0.820294</td>\n",
       "      <td>1.397194e+06</td>\n",
       "      <td>15.091553</td>\n",
       "      <td>3.793381e+05</td>\n",
       "      <td>72127.020420</td>\n",
       "      <td>5.263667</td>\n",
       "      <td>26.050413</td>\n",
       "      <td>0.174984</td>\n",
       "    </tr>\n",
       "    <tr>\n",
       "      <th>min</th>\n",
       "      <td>1.722054</td>\n",
       "      <td>6.158900e+04</td>\n",
       "      <td>2.000000</td>\n",
       "      <td>2.169600e+04</td>\n",
       "      <td>4603.000000</td>\n",
       "      <td>22.885452</td>\n",
       "      <td>0.000000</td>\n",
       "      <td>0.000000</td>\n",
       "    </tr>\n",
       "    <tr>\n",
       "      <th>25%</th>\n",
       "      <td>2.074146</td>\n",
       "      <td>6.176092e+05</td>\n",
       "      <td>20.000000</td>\n",
       "      <td>2.324260e+05</td>\n",
       "      <td>40837.250000</td>\n",
       "      <td>29.447514</td>\n",
       "      <td>12.677500</td>\n",
       "      <td>0.000000</td>\n",
       "    </tr>\n",
       "    <tr>\n",
       "      <th>50%</th>\n",
       "      <td>2.301344</td>\n",
       "      <td>2.552710e+06</td>\n",
       "      <td>30.000000</td>\n",
       "      <td>6.328365e+05</td>\n",
       "      <td>90563.000000</td>\n",
       "      <td>30.129477</td>\n",
       "      <td>40.540000</td>\n",
       "      <td>0.000000</td>\n",
       "    </tr>\n",
       "    <tr>\n",
       "      <th>75%</th>\n",
       "      <td>2.615989</td>\n",
       "      <td>3.260680e+06</td>\n",
       "      <td>39.750000</td>\n",
       "      <td>8.805288e+05</td>\n",
       "      <td>132836.000000</td>\n",
       "      <td>31.886013</td>\n",
       "      <td>56.630000</td>\n",
       "      <td>0.000000</td>\n",
       "    </tr>\n",
       "    <tr>\n",
       "      <th>max</th>\n",
       "      <td>7.279798</td>\n",
       "      <td>5.080878e+06</td>\n",
       "      <td>77.000000</td>\n",
       "      <td>1.930694e+06</td>\n",
       "      <td>376794.000000</td>\n",
       "      <td>62.754383</td>\n",
       "      <td>93.190000</td>\n",
       "      <td>2.000000</td>\n",
       "    </tr>\n",
       "  </tbody>\n",
       "</table>\n",
       "</div>"
      ],
      "text/plain": [
       "           wga_cp  raw_read_count  final_contigs_count  final_assembly_length  \\\n",
       "count  226.000000    2.260000e+02           226.000000           2.260000e+02   \n",
       "mean     2.543889    2.222619e+06            30.070796           5.882286e+05   \n",
       "std      0.820294    1.397194e+06            15.091553           3.793381e+05   \n",
       "min      1.722054    6.158900e+04             2.000000           2.169600e+04   \n",
       "25%      2.074146    6.176092e+05            20.000000           2.324260e+05   \n",
       "50%      2.301344    2.552710e+06            30.000000           6.328365e+05   \n",
       "75%      2.615989    3.260680e+06            39.750000           8.805288e+05   \n",
       "max      7.279798    5.080878e+06            77.000000           1.930694e+06   \n",
       "\n",
       "       max_contig_length  gc_content  checkM_estimated_completeness  \\\n",
       "count         226.000000  226.000000                     226.000000   \n",
       "mean        97201.115044   31.726725                      37.688451   \n",
       "std         72127.020420    5.263667                      26.050413   \n",
       "min          4603.000000   22.885452                       0.000000   \n",
       "25%         40837.250000   29.447514                      12.677500   \n",
       "50%         90563.000000   30.129477                      40.540000   \n",
       "75%        132836.000000   31.886013                      56.630000   \n",
       "max        376794.000000   62.754383                      93.190000   \n",
       "\n",
       "       number_multi_copy  \n",
       "count         226.000000  \n",
       "mean            0.022124  \n",
       "std             0.174984  \n",
       "min             0.000000  \n",
       "25%             0.000000  \n",
       "50%             0.000000  \n",
       "75%             0.000000  \n",
       "max             2.000000  "
      ]
     },
     "execution_count": 8,
     "metadata": {},
     "output_type": "execute_result"
    }
   ],
   "source": [
    "gdf.describe()"
   ]
  },
  {
   "cell_type": "markdown",
   "id": "a42b4eaa-af61-4158-ab84-2350cca27307",
   "metadata": {},
   "source": [
    "To look into distributions of values, use ```sns.histplot```"
   ]
  },
  {
   "cell_type": "code",
   "execution_count": 9,
   "id": "18196496-7b9a-48ee-885f-a375e3bfd4dd",
   "metadata": {},
   "outputs": [
    {
     "data": {
      "text/plain": [
       "<AxesSubplot:xlabel='gc_content', ylabel='Count'>"
      ]
     },
     "execution_count": 9,
     "metadata": {},
     "output_type": "execute_result"
    },
    {
     "data": {
      "image/png": "[encoded data removed]",
      "text/plain": [
       "<Figure size 576x432 with 1 Axes>"
      ]
     },
     "metadata": {
      "needs_background": "light"
     },
     "output_type": "display_data"
    }
   ],
   "source": [
    "# gc_content distribution\n",
    "\n",
    "sns.histplot(gdf['gc_content'])"
   ]
  },
  {
   "cell_type": "code",
   "execution_count": 10,
   "id": "4d13a34a-dcff-452a-b24e-a9490a39b43f",
   "metadata": {},
   "outputs": [
    {
     "data": {
      "text/plain": [
       "<AxesSubplot:xlabel='final_assembly_length', ylabel='Count'>"
      ]
     },
     "execution_count": 10,
     "metadata": {},
     "output_type": "execute_result"
    },
    {
     "data": {
      "image/png": "[encoded data removed]",
      "text/plain": [
       "<Figure size 576x432 with 1 Axes>"
      ]
     },
     "metadata": {
      "needs_background": "light"
     },
     "output_type": "display_data"
    }
   ],
   "source": [
    "# assembly length distribution\n",
    "\n",
    "sns.histplot(gdf['final_assembly_length'])"
   ]
  },
  {
   "cell_type": "markdown",
   "id": "c4b80754-8ade-4353-beda-d47993b71449",
   "metadata": {},
   "source": [
    "Examine distributions of other aspects of the assembly stats below:"
   ]
  },
  {
   "cell_type": "code",
   "execution_count": null,
   "id": "c0023aaa-48a8-471b-bfc4-153b298157b3",
   "metadata": {},
   "outputs": [],
   "source": []
  },
  {
   "cell_type": "code",
   "execution_count": null,
   "id": "1dc32992-e5be-49e3-a0bc-cc6c6108ee7d",
   "metadata": {},
   "outputs": [],
   "source": []
  },
  {
   "cell_type": "code",
   "execution_count": null,
   "id": "be49a4af-33fc-4f94-9e93-26107e1e671e",
   "metadata": {},
   "outputs": [],
   "source": []
  },
  {
   "cell_type": "markdown",
   "id": "b4b34551-18a4-4be1-9792-607f24eaea79",
   "metadata": {},
   "source": [
    "### Let's now consider 16S ribosomal gene classifications"
   ]
  },
  {
   "cell_type": "code",
   "execution_count": 11,
   "id": "41346885-6c6e-4672-9d67-444768289d94",
   "metadata": {},
   "outputs": [
    {
     "data": {
      "image/png": "[encoded data removed]",
      "text/plain": [
       "<Figure size 576x432 with 1 Axes>"
      ]
     },
     "metadata": {
      "needs_background": "light"
     },
     "output_type": "display_data"
    }
   ],
   "source": [
    "classified_16s = ['no' if 'no SSU' in i else 'yes' for i in gdf['SSU_classification_1']]\n",
    "\n",
    "ax = sns.countplot(x = classified_16s)\n",
    "\n",
    "ax.set(ylabel=\"SAG Count\",\n",
    "       title=\"AG-910 Cells Containing 16S\")\n",
    "\n",
    "# show count on top of bar\n",
    "ax.bar_label(ax.containers[0])\n",
    "\n",
    "plt.show()"
   ]
  },
  {
   "cell_type": "markdown",
   "id": "99f713fb-cd5e-418c-a64c-3ebba0b6d26d",
   "metadata": {},
   "source": [
    "Was there a difference in assembly length for cells that were and were not classified via 16S?"
   ]
  },
  {
   "cell_type": "code",
   "execution_count": 12,
   "id": "868d9f23-59ac-4ec8-aebd-ee47100e5329",
   "metadata": {},
   "outputs": [
    {
     "data": {
      "text/plain": [
       "[Text(0, 0.5, 'Final Assembly Length'),\n",
       " Text(0.5, 0, 'Contains Classified 16S')]"
      ]
     },
     "execution_count": 12,
     "metadata": {},
     "output_type": "execute_result"
    },
    {
     "data": {
      "image/png": "[encoded data removed]",
      "text/plain": [
       "<Figure size 576x432 with 1 Axes>"
      ]
     },
     "metadata": {
      "needs_background": "light"
     },
     "output_type": "display_data"
    }
   ],
   "source": [
    "ax = sns.violinplot(x = classified_16s, y = 'final_assembly_length', data = gdf)\n",
    "\n",
    "ax.set(ylabel = 'Final Assembly Length',\n",
    "       xlabel = 'Contains Classified 16S')"
   ]
  },
  {
   "cell_type": "code",
   "execution_count": null,
   "id": "f62d0255-6c8c-4abe-b050-0b878e9c259c",
   "metadata": {},
   "outputs": [],
   "source": []
  },
  {
   "cell_type": "code",
   "execution_count": null,
   "id": "6559e18a-258f-4536-b582-49e519cedfd8",
   "metadata": {},
   "outputs": [],
   "source": []
  },
  {
   "cell_type": "markdown",
   "id": "92bc9aff-5568-4f0d-b7a6-70317f13596a",
   "metadata": {},
   "source": [
    "How do assembly stats relate to phylogeny?\n",
    "\n",
    "Look at assembly size distribution by phlogenetic Order for 16S containing cells:"
   ]
  },
  {
   "cell_type": "code",
   "execution_count": 13,
   "id": "853e2744-0280-4e97-84b1-4205ca2c87af",
   "metadata": {},
   "outputs": [
    {
     "data": {
      "text/plain": [
       "'k__Bacteria;p__Proteobacteria;c__Gammaproteobacteria;o__Oceanospirillales;f__SAR86_clade;g__?;s__?'"
      ]
     },
     "execution_count": 13,
     "metadata": {},
     "output_type": "execute_result"
    }
   ],
   "source": [
    "df['SSU_classification_1'][1]"
   ]
  },
  {
   "cell_type": "markdown",
   "id": "ccc74bc4-2e6b-4626-a6b8-a4b46a662cd4",
   "metadata": {},
   "source": [
    "We want to grab the order, which is the 4th item in this ';' separated phylogeny.  Since python uses 0-based indexing, order is indexed as 3."
   ]
  },
  {
   "cell_type": "code",
   "execution_count": 14,
   "id": "0f35da26-3cd5-4be4-b48e-1809695e5ff7",
   "metadata": {},
   "outputs": [
    {
     "data": {
      "image/png": "[encoded data removed]",
      "text/plain": [
       "<Figure size 576x432 with 1 Axes>"
      ]
     },
     "metadata": {
      "needs_background": "light"
     },
     "output_type": "display_data"
    }
   ],
   "source": [
    "orders = [i if len(i.split(\";\")) == 1 else i.split(\";\")[3].replace(\"o__\",'') for i in gdf['SSU_classification_1']]\n",
    "\n",
    "ax = sns.boxplot(x = orders, y = gdf['final_assembly_length'])\n",
    "ax.tick_params(axis='x', labelrotation = 90)\n",
    "plt.show()"
   ]
  },
  {
   "cell_type": "code",
   "execution_count": null,
   "id": "754dc6ec-ff11-4057-9c3d-2259f3ce24dc",
   "metadata": {},
   "outputs": [],
   "source": []
  },
  {
   "cell_type": "code",
   "execution_count": null,
   "id": "2ee76932-584c-415d-a183-8a26b772706a",
   "metadata": {},
   "outputs": [],
   "source": []
  },
  {
   "cell_type": "markdown",
   "id": "f6833cc4-1380-4d7d-9c2b-ed2c0d2e7703",
   "metadata": {},
   "source": [
    "## Looking at multiple parameters at the same time."
   ]
  },
  {
   "cell_type": "markdown",
   "id": "d64f839e-477d-4dde-9745-b95167d2f1cf",
   "metadata": {},
   "source": [
    "Ramunas' favorite plot.  \n",
    "It looks better in R, see cp_vs_completeness_stepanauskas.R"
   ]
  },
  {
   "cell_type": "code",
   "execution_count": 44,
   "id": "00d6589c-6016-45db-a4b9-9522fd3ded58",
   "metadata": {},
   "outputs": [
    {
     "data": {
      "image/png": "[encoded data removed]",
      "text/plain": [
       "<Figure size 576x432 with 1 Axes>"
      ]
     },
     "metadata": {},
     "output_type": "display_data"
    }
   ],
   "source": [
    "plt.style.use('ggplot')\n",
    "\n",
    "ax = sns.scatterplot(x = 'wga_cp',\n",
    "                y = 'checkM_estimated_completeness', \n",
    "                data = df, \n",
    "                hue = 'gc_content',\n",
    "                size = df['raw_read_count'], \n",
    "               palette = 'viridis', \n",
    "               alpha = 0.7,   # makes dots transparent\n",
    "                sizes = (10, 200))\n",
    "\n",
    "ax.legend(loc = 'upper right', ncol = 2)\n",
    "ax.set_xlim(1, 5)\n",
    "plt.show()"
   ]
  },
  {
   "cell_type": "markdown",
   "id": "1168e4e4-a1f7-4baa-a3fe-47de41190b37",
   "metadata": {},
   "source": [
    "Space for plotting other parameters against eachother..."
   ]
  },
  {
   "cell_type": "code",
   "execution_count": null,
   "id": "f322930c-966f-49a1-91e7-411997ffcfa1",
   "metadata": {},
   "outputs": [],
   "source": []
  },
  {
   "cell_type": "code",
   "execution_count": null,
   "id": "80225d12-0b38-4a8b-8a7d-f1ec0cdfbcda",
   "metadata": {},
   "outputs": [],
   "source": []
  },
  {
   "cell_type": "markdown",
   "id": "d11e45dd-ee69-4f2a-9cbf-2f25758651bc",
   "metadata": {},
   "source": [
    "## Integrating FACS data "
   ]
  },
  {
   "cell_type": "markdown",
   "id": "c2663091-e95c-45a5-b0e6-0106ef061936",
   "metadata": {},
   "source": [
    "As Ramunas mentioned, along with genomic data, SCGC also produces optical and physical information per cell sequenced.  I'm going to pull in the stats table that contains Flow Cytometry data for AG-910's plate."
   ]
  },
  {
   "cell_type": "code",
   "execution_count": 19,
   "id": "efa87122-4813-4113-959a-d77575e9ee83",
   "metadata": {},
   "outputs": [
    {
     "data": {
      "text/html": [
       "<div>\n",
       "<style scoped>\n",
       "    .dataframe tbody tr th:only-of-type {\n",
       "        vertical-align: middle;\n",
       "    }\n",
       "\n",
       "    .dataframe tbody tr th {\n",
       "        vertical-align: top;\n",
       "    }\n",
       "\n",
       "    .dataframe thead th {\n",
       "        text-align: right;\n",
       "    }\n",
       "</style>\n",
       "<table border=\"1\" class=\"dataframe\">\n",
       "  <thead>\n",
       "    <tr style=\"text-align: right;\">\n",
       "      <th></th>\n",
       "      <th>eventnum</th>\n",
       "      <th>well</th>\n",
       "      <th>X531.40..488.</th>\n",
       "      <th>X572.27..488.</th>\n",
       "      <th>X692.40..488.</th>\n",
       "      <th>Trigger.Pulse.Width</th>\n",
       "      <th>SSC</th>\n",
       "      <th>FSC</th>\n",
       "      <th>estimated_diameter</th>\n",
       "    </tr>\n",
       "  </thead>\n",
       "  <tbody>\n",
       "    <tr>\n",
       "      <th>0</th>\n",
       "      <td>1064</td>\n",
       "      <td>A01</td>\n",
       "      <td>17.635953</td>\n",
       "      <td>2.398523</td>\n",
       "      <td>6.245875</td>\n",
       "      <td>12412</td>\n",
       "      <td>3.888505</td>\n",
       "      <td>1.026341</td>\n",
       "      <td>0.18</td>\n",
       "    </tr>\n",
       "    <tr>\n",
       "      <th>1</th>\n",
       "      <td>3591</td>\n",
       "      <td>A02</td>\n",
       "      <td>139.505807</td>\n",
       "      <td>19.157932</td>\n",
       "      <td>31.037185</td>\n",
       "      <td>21147</td>\n",
       "      <td>6.363718</td>\n",
       "      <td>2.212945</td>\n",
       "      <td>0.24</td>\n",
       "    </tr>\n",
       "    <tr>\n",
       "      <th>2</th>\n",
       "      <td>5868</td>\n",
       "      <td>A03</td>\n",
       "      <td>251.061589</td>\n",
       "      <td>36.343337</td>\n",
       "      <td>141.778810</td>\n",
       "      <td>24448</td>\n",
       "      <td>14.878063</td>\n",
       "      <td>3.542553</td>\n",
       "      <td>0.29</td>\n",
       "    </tr>\n",
       "    <tr>\n",
       "      <th>3</th>\n",
       "      <td>7635</td>\n",
       "      <td>A04</td>\n",
       "      <td>61.474682</td>\n",
       "      <td>9.133397</td>\n",
       "      <td>23.114878</td>\n",
       "      <td>17575</td>\n",
       "      <td>8.599006</td>\n",
       "      <td>1.798386</td>\n",
       "      <td>0.23</td>\n",
       "    </tr>\n",
       "    <tr>\n",
       "      <th>4</th>\n",
       "      <td>10211</td>\n",
       "      <td>A05</td>\n",
       "      <td>14.736556</td>\n",
       "      <td>3.167615</td>\n",
       "      <td>21.989944</td>\n",
       "      <td>11511</td>\n",
       "      <td>10.225972</td>\n",
       "      <td>16.386173</td>\n",
       "      <td>0.53</td>\n",
       "    </tr>\n",
       "  </tbody>\n",
       "</table>\n",
       "</div>"
      ],
      "text/plain": [
       "   eventnum well  X531.40..488.  X572.27..488.  X692.40..488.  \\\n",
       "0      1064  A01      17.635953       2.398523       6.245875   \n",
       "1      3591  A02     139.505807      19.157932      31.037185   \n",
       "2      5868  A03     251.061589      36.343337     141.778810   \n",
       "3      7635  A04      61.474682       9.133397      23.114878   \n",
       "4     10211  A05      14.736556       3.167615      21.989944   \n",
       "\n",
       "   Trigger.Pulse.Width        SSC        FSC  estimated_diameter  \n",
       "0                12412   3.888505   1.026341                0.18  \n",
       "1                21147   6.363718   2.212945                0.24  \n",
       "2                24448  14.878063   3.542553                0.29  \n",
       "3                17575   8.599006   1.798386                0.23  \n",
       "4                11511  10.225972  16.386173                0.53  "
      ]
     },
     "execution_count": 19,
     "metadata": {},
     "output_type": "execute_result"
    }
   ],
   "source": [
    "# flow cytometry dataframe\n",
    "fcdf = pd.read_csv(\"tbls/AG-910-data-export.csv\")\n",
    "fcdf.head()"
   ]
  },
  {
   "cell_type": "markdown",
   "id": "637b4a4a-edbf-46fc-9f49-0fc73a655aa9",
   "metadata": {},
   "source": [
    "We need to add a 'well' column to our main dataframe so that we can merge the flow cytometry data with our assembly data."
   ]
  },
  {
   "cell_type": "code",
   "execution_count": 21,
   "id": "3a91ff19-ec0d-4c78-a78e-f2c105564c5d",
   "metadata": {},
   "outputs": [],
   "source": [
    "df['well'] = [i.split(\"-\")[-1] for i in df['Sample_ID']]\n",
    "\n",
    "fcdf = df.merge(fcdf, on = 'well', how = 'left')"
   ]
  },
  {
   "cell_type": "code",
   "execution_count": 22,
   "id": "83bbae80-37f7-4f19-b39b-caa8b1200cee",
   "metadata": {},
   "outputs": [
    {
     "data": {
      "text/html": [
       "<div>\n",
       "<style scoped>\n",
       "    .dataframe tbody tr th:only-of-type {\n",
       "        vertical-align: middle;\n",
       "    }\n",
       "\n",
       "    .dataframe tbody tr th {\n",
       "        vertical-align: top;\n",
       "    }\n",
       "\n",
       "    .dataframe thead th {\n",
       "        text-align: right;\n",
       "    }\n",
       "</style>\n",
       "<table border=\"1\" class=\"dataframe\">\n",
       "  <thead>\n",
       "    <tr style=\"text-align: right;\">\n",
       "      <th></th>\n",
       "      <th>Sample_ID</th>\n",
       "      <th>well_type</th>\n",
       "      <th>wga_cp</th>\n",
       "      <th>wgs_run_id</th>\n",
       "      <th>raw_read_count</th>\n",
       "      <th>final_contigs_count</th>\n",
       "      <th>final_assembly_length</th>\n",
       "      <th>max_contig_length</th>\n",
       "      <th>gc_content</th>\n",
       "      <th>checkM_estimated_completeness</th>\n",
       "      <th>...</th>\n",
       "      <th>SSU_classification_1</th>\n",
       "      <th>well</th>\n",
       "      <th>eventnum</th>\n",
       "      <th>X531.40..488.</th>\n",
       "      <th>X572.27..488.</th>\n",
       "      <th>X692.40..488.</th>\n",
       "      <th>Trigger.Pulse.Width</th>\n",
       "      <th>SSC</th>\n",
       "      <th>FSC</th>\n",
       "      <th>estimated_diameter</th>\n",
       "    </tr>\n",
       "  </thead>\n",
       "  <tbody>\n",
       "    <tr>\n",
       "      <th>0</th>\n",
       "      <td>AG-910-A01</td>\n",
       "      <td>1 cell</td>\n",
       "      <td>3.239536</td>\n",
       "      <td>AG-910</td>\n",
       "      <td>61589</td>\n",
       "      <td>14.0</td>\n",
       "      <td>72175.0</td>\n",
       "      <td>20059.0</td>\n",
       "      <td>24.669207</td>\n",
       "      <td>2.68</td>\n",
       "      <td>...</td>\n",
       "      <td>no SSU regions found</td>\n",
       "      <td>A01</td>\n",
       "      <td>1064.0</td>\n",
       "      <td>17.635953</td>\n",
       "      <td>2.398523</td>\n",
       "      <td>6.245875</td>\n",
       "      <td>12412.0</td>\n",
       "      <td>3.888505</td>\n",
       "      <td>1.026341</td>\n",
       "      <td>0.18</td>\n",
       "    </tr>\n",
       "    <tr>\n",
       "      <th>1</th>\n",
       "      <td>AG-910-A02</td>\n",
       "      <td>1 cell</td>\n",
       "      <td>1.769893</td>\n",
       "      <td>AG-910</td>\n",
       "      <td>2596242</td>\n",
       "      <td>26.0</td>\n",
       "      <td>502406.0</td>\n",
       "      <td>120161.0</td>\n",
       "      <td>33.125002</td>\n",
       "      <td>40.52</td>\n",
       "      <td>...</td>\n",
       "      <td>k__Bacteria;p__Proteobacteria;c__Gammaproteoba...</td>\n",
       "      <td>A02</td>\n",
       "      <td>3591.0</td>\n",
       "      <td>139.505807</td>\n",
       "      <td>19.157932</td>\n",
       "      <td>31.037185</td>\n",
       "      <td>21147.0</td>\n",
       "      <td>6.363718</td>\n",
       "      <td>2.212945</td>\n",
       "      <td>0.24</td>\n",
       "    </tr>\n",
       "    <tr>\n",
       "      <th>2</th>\n",
       "      <td>AG-910-A03</td>\n",
       "      <td>1 cell</td>\n",
       "      <td>2.200094</td>\n",
       "      <td>AG-910</td>\n",
       "      <td>2514079</td>\n",
       "      <td>32.0</td>\n",
       "      <td>240410.0</td>\n",
       "      <td>24968.0</td>\n",
       "      <td>47.106610</td>\n",
       "      <td>0.00</td>\n",
       "      <td>...</td>\n",
       "      <td>no SSU regions found</td>\n",
       "      <td>A03</td>\n",
       "      <td>5868.0</td>\n",
       "      <td>251.061589</td>\n",
       "      <td>36.343337</td>\n",
       "      <td>141.778810</td>\n",
       "      <td>24448.0</td>\n",
       "      <td>14.878063</td>\n",
       "      <td>3.542553</td>\n",
       "      <td>0.29</td>\n",
       "    </tr>\n",
       "    <tr>\n",
       "      <th>3</th>\n",
       "      <td>AG-910-A04</td>\n",
       "      <td>1 cell</td>\n",
       "      <td>1.959266</td>\n",
       "      <td>AG-910</td>\n",
       "      <td>2648866</td>\n",
       "      <td>24.0</td>\n",
       "      <td>473338.0</td>\n",
       "      <td>111384.0</td>\n",
       "      <td>32.749959</td>\n",
       "      <td>24.56</td>\n",
       "      <td>...</td>\n",
       "      <td>no SSU regions found</td>\n",
       "      <td>A04</td>\n",
       "      <td>7635.0</td>\n",
       "      <td>61.474682</td>\n",
       "      <td>9.133397</td>\n",
       "      <td>23.114878</td>\n",
       "      <td>17575.0</td>\n",
       "      <td>8.599006</td>\n",
       "      <td>1.798386</td>\n",
       "      <td>0.23</td>\n",
       "    </tr>\n",
       "    <tr>\n",
       "      <th>4</th>\n",
       "      <td>AG-910-A05</td>\n",
       "      <td>1 cell</td>\n",
       "      <td>8.659013</td>\n",
       "      <td>AG-910</td>\n",
       "      <td>210713</td>\n",
       "      <td>1.0</td>\n",
       "      <td>4106.0</td>\n",
       "      <td>4106.0</td>\n",
       "      <td>39.892840</td>\n",
       "      <td>0.00</td>\n",
       "      <td>...</td>\n",
       "      <td>no SSU regions found</td>\n",
       "      <td>A05</td>\n",
       "      <td>10211.0</td>\n",
       "      <td>14.736556</td>\n",
       "      <td>3.167615</td>\n",
       "      <td>21.989944</td>\n",
       "      <td>11511.0</td>\n",
       "      <td>10.225972</td>\n",
       "      <td>16.386173</td>\n",
       "      <td>0.53</td>\n",
       "    </tr>\n",
       "  </tbody>\n",
       "</table>\n",
       "<p>5 rows × 22 columns</p>\n",
       "</div>"
      ],
      "text/plain": [
       "    Sample_ID well_type    wga_cp wgs_run_id  raw_read_count  \\\n",
       "0  AG-910-A01    1 cell  3.239536     AG-910           61589   \n",
       "1  AG-910-A02    1 cell  1.769893     AG-910         2596242   \n",
       "2  AG-910-A03    1 cell  2.200094     AG-910         2514079   \n",
       "3  AG-910-A04    1 cell  1.959266     AG-910         2648866   \n",
       "4  AG-910-A05    1 cell  8.659013     AG-910          210713   \n",
       "\n",
       "   final_contigs_count  final_assembly_length  max_contig_length  gc_content  \\\n",
       "0                 14.0                72175.0            20059.0   24.669207   \n",
       "1                 26.0               502406.0           120161.0   33.125002   \n",
       "2                 32.0               240410.0            24968.0   47.106610   \n",
       "3                 24.0               473338.0           111384.0   32.749959   \n",
       "4                  1.0                 4106.0             4106.0   39.892840   \n",
       "\n",
       "   checkM_estimated_completeness  ...  \\\n",
       "0                           2.68  ...   \n",
       "1                          40.52  ...   \n",
       "2                           0.00  ...   \n",
       "3                          24.56  ...   \n",
       "4                           0.00  ...   \n",
       "\n",
       "                                SSU_classification_1 well eventnum  \\\n",
       "0                               no SSU regions found  A01   1064.0   \n",
       "1  k__Bacteria;p__Proteobacteria;c__Gammaproteoba...  A02   3591.0   \n",
       "2                               no SSU regions found  A03   5868.0   \n",
       "3                               no SSU regions found  A04   7635.0   \n",
       "4                               no SSU regions found  A05  10211.0   \n",
       "\n",
       "  X531.40..488.  X572.27..488.  X692.40..488.  Trigger.Pulse.Width        SSC  \\\n",
       "0     17.635953       2.398523       6.245875              12412.0   3.888505   \n",
       "1    139.505807      19.157932      31.037185              21147.0   6.363718   \n",
       "2    251.061589      36.343337     141.778810              24448.0  14.878063   \n",
       "3     61.474682       9.133397      23.114878              17575.0   8.599006   \n",
       "4     14.736556       3.167615      21.989944              11511.0  10.225972   \n",
       "\n",
       "         FSC  estimated_diameter  \n",
       "0   1.026341                0.18  \n",
       "1   2.212945                0.24  \n",
       "2   3.542553                0.29  \n",
       "3   1.798386                0.23  \n",
       "4  16.386173                0.53  \n",
       "\n",
       "[5 rows x 22 columns]"
      ]
     },
     "execution_count": 22,
     "metadata": {},
     "output_type": "execute_result"
    }
   ],
   "source": [
    "fcdf.head()"
   ]
  },
  {
   "cell_type": "code",
   "execution_count": 38,
   "id": "0751d7dd-4fa5-4aa3-a6dc-540d825b7eec",
   "metadata": {},
   "outputs": [
    {
     "data": {
      "image/png": "[encoded data removed]",
      "text/plain": [
       "<Figure size 576x432 with 1 Axes>"
      ]
     },
     "metadata": {},
     "output_type": "display_data"
    }
   ],
   "source": [
    "plt.style.use('ggplot')\n",
    "\n",
    "ax = sns.scatterplot(x = 'X692.40..488.',\n",
    "                y = 'X531.40..488.', \n",
    "                data = fcdf, \n",
    "                hue = 'gc_content',\n",
    "                size = 'final_assembly_length',\n",
    "                palette = 'viridis', \n",
    "                alpha = 0.7,   # makes dots transparent\n",
    "                sizes = (10, 400))\n",
    "\n",
    "ax.set(xscale = 'log',\n",
    "       yscale = 'log', \n",
    "       xlabel = 'Fluorescence at 692 nm, relative units',\n",
    "       ylabel = 'Fluorescence at 531 nm, relative units')\n",
    "\n",
    "ax.legend(loc = 'best', ncol = 1)\n",
    "\n",
    "plt.show()"
   ]
  },
  {
   "cell_type": "markdown",
   "id": "d38f7dec-fa22-416e-99af-6e33bfed8361",
   "metadata": {},
   "source": [
    "There are a number of small assemblies with apparently higher gc_content in the lower lefthand corner of the plot.  What's going on there?  Extract their SAG IDs below:"
   ]
  },
  {
   "cell_type": "code",
   "execution_count": 43,
   "id": "62bcfd9f-7345-4dde-a42b-bf8d7ba3d059",
   "metadata": {},
   "outputs": [
    {
     "data": {
      "text/html": [
       "<div>\n",
       "<style scoped>\n",
       "    .dataframe tbody tr th:only-of-type {\n",
       "        vertical-align: middle;\n",
       "    }\n",
       "\n",
       "    .dataframe tbody tr th {\n",
       "        vertical-align: top;\n",
       "    }\n",
       "\n",
       "    .dataframe thead th {\n",
       "        text-align: right;\n",
       "    }\n",
       "</style>\n",
       "<table border=\"1\" class=\"dataframe\">\n",
       "  <thead>\n",
       "    <tr style=\"text-align: right;\">\n",
       "      <th></th>\n",
       "      <th>Sample_ID</th>\n",
       "      <th>well_type</th>\n",
       "      <th>wga_cp</th>\n",
       "      <th>wgs_run_id</th>\n",
       "      <th>raw_read_count</th>\n",
       "      <th>final_contigs_count</th>\n",
       "      <th>final_assembly_length</th>\n",
       "      <th>max_contig_length</th>\n",
       "      <th>gc_content</th>\n",
       "      <th>checkM_estimated_completeness</th>\n",
       "      <th>...</th>\n",
       "      <th>SSU_classification_1</th>\n",
       "      <th>well</th>\n",
       "      <th>eventnum</th>\n",
       "      <th>X531.40..488.</th>\n",
       "      <th>X572.27..488.</th>\n",
       "      <th>X692.40..488.</th>\n",
       "      <th>Trigger.Pulse.Width</th>\n",
       "      <th>SSC</th>\n",
       "      <th>FSC</th>\n",
       "      <th>estimated_diameter</th>\n",
       "    </tr>\n",
       "  </thead>\n",
       "  <tbody>\n",
       "    <tr>\n",
       "      <th>81</th>\n",
       "      <td>AG-910-D10</td>\n",
       "      <td>1 cell</td>\n",
       "      <td>10.962793</td>\n",
       "      <td>AG-910</td>\n",
       "      <td>201254</td>\n",
       "      <td>3.0</td>\n",
       "      <td>9326.0</td>\n",
       "      <td>3406.0</td>\n",
       "      <td>66.995496</td>\n",
       "      <td>0.0</td>\n",
       "      <td>...</td>\n",
       "      <td>no SSU regions found</td>\n",
       "      <td>D10</td>\n",
       "      <td>164147.0</td>\n",
       "      <td>11.253031</td>\n",
       "      <td>2.436233</td>\n",
       "      <td>2.282435</td>\n",
       "      <td>10316.0</td>\n",
       "      <td>1.213004</td>\n",
       "      <td>1.819742</td>\n",
       "      <td>0.23</td>\n",
       "    </tr>\n",
       "    <tr>\n",
       "      <th>159</th>\n",
       "      <td>AG-910-G16</td>\n",
       "      <td>1 cell</td>\n",
       "      <td>7.188865</td>\n",
       "      <td>AG-910</td>\n",
       "      <td>529064</td>\n",
       "      <td>1.0</td>\n",
       "      <td>5058.0</td>\n",
       "      <td>5058.0</td>\n",
       "      <td>46.065639</td>\n",
       "      <td>0.0</td>\n",
       "      <td>...</td>\n",
       "      <td>no SSU regions found</td>\n",
       "      <td>G16</td>\n",
       "      <td>318516.0</td>\n",
       "      <td>26.301645</td>\n",
       "      <td>6.156979</td>\n",
       "      <td>28.535356</td>\n",
       "      <td>13773.0</td>\n",
       "      <td>2.080541</td>\n",
       "      <td>1.026196</td>\n",
       "      <td>0.18</td>\n",
       "    </tr>\n",
       "    <tr>\n",
       "      <th>161</th>\n",
       "      <td>AG-910-G18</td>\n",
       "      <td>1 cell</td>\n",
       "      <td>15.352778</td>\n",
       "      <td>AG-910</td>\n",
       "      <td>342513</td>\n",
       "      <td>1.0</td>\n",
       "      <td>2721.0</td>\n",
       "      <td>2721.0</td>\n",
       "      <td>60.235208</td>\n",
       "      <td>0.0</td>\n",
       "      <td>...</td>\n",
       "      <td>no SSU regions found</td>\n",
       "      <td>G18</td>\n",
       "      <td>324036.0</td>\n",
       "      <td>16.813068</td>\n",
       "      <td>6.149196</td>\n",
       "      <td>5.794293</td>\n",
       "      <td>11421.0</td>\n",
       "      <td>6.783939</td>\n",
       "      <td>1.026341</td>\n",
       "      <td>0.18</td>\n",
       "    </tr>\n",
       "    <tr>\n",
       "      <th>224</th>\n",
       "      <td>AG-910-I06</td>\n",
       "      <td>1 cell</td>\n",
       "      <td>15.352778</td>\n",
       "      <td>AG-910</td>\n",
       "      <td>385884</td>\n",
       "      <td>2.0</td>\n",
       "      <td>11586.0</td>\n",
       "      <td>7492.0</td>\n",
       "      <td>64.379423</td>\n",
       "      <td>0.0</td>\n",
       "      <td>...</td>\n",
       "      <td>no SSU regions found</td>\n",
       "      <td>I06</td>\n",
       "      <td>369889.0</td>\n",
       "      <td>23.274605</td>\n",
       "      <td>5.072245</td>\n",
       "      <td>19.621157</td>\n",
       "      <td>14394.0</td>\n",
       "      <td>4.029820</td>\n",
       "      <td>1.225341</td>\n",
       "      <td>0.19</td>\n",
       "    </tr>\n",
       "    <tr>\n",
       "      <th>237</th>\n",
       "      <td>AG-910-I19</td>\n",
       "      <td>1 cell</td>\n",
       "      <td>15.352778</td>\n",
       "      <td>AG-910</td>\n",
       "      <td>575017</td>\n",
       "      <td>1.0</td>\n",
       "      <td>2943.0</td>\n",
       "      <td>2943.0</td>\n",
       "      <td>59.972817</td>\n",
       "      <td>0.0</td>\n",
       "      <td>...</td>\n",
       "      <td>no SSU regions found</td>\n",
       "      <td>I19</td>\n",
       "      <td>398538.0</td>\n",
       "      <td>16.573773</td>\n",
       "      <td>2.592366</td>\n",
       "      <td>27.184802</td>\n",
       "      <td>13475.0</td>\n",
       "      <td>9.950932</td>\n",
       "      <td>1.075514</td>\n",
       "      <td>0.18</td>\n",
       "    </tr>\n",
       "    <tr>\n",
       "      <th>279</th>\n",
       "      <td>AG-910-K13</td>\n",
       "      <td>1 cell</td>\n",
       "      <td>10.256919</td>\n",
       "      <td>AG-910</td>\n",
       "      <td>381281</td>\n",
       "      <td>2.0</td>\n",
       "      <td>5879.0</td>\n",
       "      <td>3106.0</td>\n",
       "      <td>56.131995</td>\n",
       "      <td>0.0</td>\n",
       "      <td>...</td>\n",
       "      <td>no SSU regions found</td>\n",
       "      <td>K13</td>\n",
       "      <td>489212.0</td>\n",
       "      <td>15.685400</td>\n",
       "      <td>2.341568</td>\n",
       "      <td>3.320781</td>\n",
       "      <td>11546.0</td>\n",
       "      <td>3.686289</td>\n",
       "      <td>1.026341</td>\n",
       "      <td>0.18</td>\n",
       "    </tr>\n",
       "    <tr>\n",
       "      <th>281</th>\n",
       "      <td>AG-910-K15</td>\n",
       "      <td>1 cell</td>\n",
       "      <td>6.727005</td>\n",
       "      <td>AG-910</td>\n",
       "      <td>291622</td>\n",
       "      <td>1.0</td>\n",
       "      <td>10075.0</td>\n",
       "      <td>10075.0</td>\n",
       "      <td>62.560794</td>\n",
       "      <td>0.0</td>\n",
       "      <td>...</td>\n",
       "      <td>no SSU regions found</td>\n",
       "      <td>K15</td>\n",
       "      <td>493996.0</td>\n",
       "      <td>24.561721</td>\n",
       "      <td>6.502035</td>\n",
       "      <td>17.745346</td>\n",
       "      <td>13898.0</td>\n",
       "      <td>7.016659</td>\n",
       "      <td>1.237977</td>\n",
       "      <td>0.19</td>\n",
       "    </tr>\n",
       "    <tr>\n",
       "      <th>318</th>\n",
       "      <td>AG-910-M04</td>\n",
       "      <td>1 cell</td>\n",
       "      <td>4.042103</td>\n",
       "      <td>AG-910</td>\n",
       "      <td>113338</td>\n",
       "      <td>9.0</td>\n",
       "      <td>43291.0</td>\n",
       "      <td>7399.0</td>\n",
       "      <td>62.754383</td>\n",
       "      <td>0.0</td>\n",
       "      <td>...</td>\n",
       "      <td>no SSU regions found</td>\n",
       "      <td>M04</td>\n",
       "      <td>575465.0</td>\n",
       "      <td>26.249946</td>\n",
       "      <td>1.986533</td>\n",
       "      <td>4.253272</td>\n",
       "      <td>14156.0</td>\n",
       "      <td>2.502865</td>\n",
       "      <td>1.113035</td>\n",
       "      <td>0.19</td>\n",
       "    </tr>\n",
       "    <tr>\n",
       "      <th>336</th>\n",
       "      <td>AG-910-M22</td>\n",
       "      <td>1 cell</td>\n",
       "      <td>8.830109</td>\n",
       "      <td>AG-910</td>\n",
       "      <td>131331</td>\n",
       "      <td>1.0</td>\n",
       "      <td>5557.0</td>\n",
       "      <td>5557.0</td>\n",
       "      <td>65.089077</td>\n",
       "      <td>0.0</td>\n",
       "      <td>...</td>\n",
       "      <td>no SSU regions found</td>\n",
       "      <td>M22</td>\n",
       "      <td>617443.0</td>\n",
       "      <td>26.911112</td>\n",
       "      <td>6.769653</td>\n",
       "      <td>40.292537</td>\n",
       "      <td>14022.0</td>\n",
       "      <td>18.569441</td>\n",
       "      <td>1.026341</td>\n",
       "      <td>0.18</td>\n",
       "    </tr>\n",
       "    <tr>\n",
       "      <th>351</th>\n",
       "      <td>AG-910-N13</td>\n",
       "      <td>1 cell</td>\n",
       "      <td>15.352778</td>\n",
       "      <td>AG-910</td>\n",
       "      <td>388313</td>\n",
       "      <td>2.0</td>\n",
       "      <td>6013.0</td>\n",
       "      <td>3677.0</td>\n",
       "      <td>63.329453</td>\n",
       "      <td>0.0</td>\n",
       "      <td>...</td>\n",
       "      <td>no SSU regions found</td>\n",
       "      <td>N13</td>\n",
       "      <td>647673.0</td>\n",
       "      <td>27.955816</td>\n",
       "      <td>5.366304</td>\n",
       "      <td>39.479761</td>\n",
       "      <td>14492.0</td>\n",
       "      <td>15.356042</td>\n",
       "      <td>1.208750</td>\n",
       "      <td>0.19</td>\n",
       "    </tr>\n",
       "    <tr>\n",
       "      <th>360</th>\n",
       "      <td>AG-910-N22</td>\n",
       "      <td>1 cell</td>\n",
       "      <td>15.693058</td>\n",
       "      <td>AG-910</td>\n",
       "      <td>129453</td>\n",
       "      <td>1.0</td>\n",
       "      <td>2960.0</td>\n",
       "      <td>2960.0</td>\n",
       "      <td>64.391892</td>\n",
       "      <td>0.0</td>\n",
       "      <td>...</td>\n",
       "      <td>no SSU regions found</td>\n",
       "      <td>N22</td>\n",
       "      <td>625130.0</td>\n",
       "      <td>25.159141</td>\n",
       "      <td>5.146202</td>\n",
       "      <td>30.634166</td>\n",
       "      <td>13645.0</td>\n",
       "      <td>11.945641</td>\n",
       "      <td>1.025764</td>\n",
       "      <td>0.18</td>\n",
       "    </tr>\n",
       "    <tr>\n",
       "      <th>376</th>\n",
       "      <td>AG-910-O14</td>\n",
       "      <td>1 cell</td>\n",
       "      <td>15.352778</td>\n",
       "      <td>AG-910</td>\n",
       "      <td>391003</td>\n",
       "      <td>2.0</td>\n",
       "      <td>6787.0</td>\n",
       "      <td>3595.0</td>\n",
       "      <td>67.879770</td>\n",
       "      <td>0.0</td>\n",
       "      <td>...</td>\n",
       "      <td>no SSU regions found</td>\n",
       "      <td>O14</td>\n",
       "      <td>707147.0</td>\n",
       "      <td>19.820707</td>\n",
       "      <td>4.351830</td>\n",
       "      <td>13.465157</td>\n",
       "      <td>12974.0</td>\n",
       "      <td>7.303405</td>\n",
       "      <td>1.199106</td>\n",
       "      <td>0.19</td>\n",
       "    </tr>\n",
       "    <tr>\n",
       "      <th>395</th>\n",
       "      <td>AG-910-P09</td>\n",
       "      <td>1 cell</td>\n",
       "      <td>15.352778</td>\n",
       "      <td>AG-910</td>\n",
       "      <td>120268</td>\n",
       "      <td>1.0</td>\n",
       "      <td>5317.0</td>\n",
       "      <td>5317.0</td>\n",
       "      <td>60.899003</td>\n",
       "      <td>0.0</td>\n",
       "      <td>...</td>\n",
       "      <td>no SSU regions found</td>\n",
       "      <td>P09</td>\n",
       "      <td>766737.0</td>\n",
       "      <td>16.728219</td>\n",
       "      <td>3.056965</td>\n",
       "      <td>15.936486</td>\n",
       "      <td>11831.0</td>\n",
       "      <td>6.442910</td>\n",
       "      <td>1.289474</td>\n",
       "      <td>0.20</td>\n",
       "    </tr>\n",
       "  </tbody>\n",
       "</table>\n",
       "<p>13 rows × 22 columns</p>\n",
       "</div>"
      ],
      "text/plain": [
       "      Sample_ID well_type     wga_cp wgs_run_id  raw_read_count  \\\n",
       "81   AG-910-D10    1 cell  10.962793     AG-910          201254   \n",
       "159  AG-910-G16    1 cell   7.188865     AG-910          529064   \n",
       "161  AG-910-G18    1 cell  15.352778     AG-910          342513   \n",
       "224  AG-910-I06    1 cell  15.352778     AG-910          385884   \n",
       "237  AG-910-I19    1 cell  15.352778     AG-910          575017   \n",
       "279  AG-910-K13    1 cell  10.256919     AG-910          381281   \n",
       "281  AG-910-K15    1 cell   6.727005     AG-910          291622   \n",
       "318  AG-910-M04    1 cell   4.042103     AG-910          113338   \n",
       "336  AG-910-M22    1 cell   8.830109     AG-910          131331   \n",
       "351  AG-910-N13    1 cell  15.352778     AG-910          388313   \n",
       "360  AG-910-N22    1 cell  15.693058     AG-910          129453   \n",
       "376  AG-910-O14    1 cell  15.352778     AG-910          391003   \n",
       "395  AG-910-P09    1 cell  15.352778     AG-910          120268   \n",
       "\n",
       "     final_contigs_count  final_assembly_length  max_contig_length  \\\n",
       "81                   3.0                 9326.0             3406.0   \n",
       "159                  1.0                 5058.0             5058.0   \n",
       "161                  1.0                 2721.0             2721.0   \n",
       "224                  2.0                11586.0             7492.0   \n",
       "237                  1.0                 2943.0             2943.0   \n",
       "279                  2.0                 5879.0             3106.0   \n",
       "281                  1.0                10075.0            10075.0   \n",
       "318                  9.0                43291.0             7399.0   \n",
       "336                  1.0                 5557.0             5557.0   \n",
       "351                  2.0                 6013.0             3677.0   \n",
       "360                  1.0                 2960.0             2960.0   \n",
       "376                  2.0                 6787.0             3595.0   \n",
       "395                  1.0                 5317.0             5317.0   \n",
       "\n",
       "     gc_content  checkM_estimated_completeness  ...  SSU_classification_1  \\\n",
       "81    66.995496                            0.0  ...  no SSU regions found   \n",
       "159   46.065639                            0.0  ...  no SSU regions found   \n",
       "161   60.235208                            0.0  ...  no SSU regions found   \n",
       "224   64.379423                            0.0  ...  no SSU regions found   \n",
       "237   59.972817                            0.0  ...  no SSU regions found   \n",
       "279   56.131995                            0.0  ...  no SSU regions found   \n",
       "281   62.560794                            0.0  ...  no SSU regions found   \n",
       "318   62.754383                            0.0  ...  no SSU regions found   \n",
       "336   65.089077                            0.0  ...  no SSU regions found   \n",
       "351   63.329453                            0.0  ...  no SSU regions found   \n",
       "360   64.391892                            0.0  ...  no SSU regions found   \n",
       "376   67.879770                            0.0  ...  no SSU regions found   \n",
       "395   60.899003                            0.0  ...  no SSU regions found   \n",
       "\n",
       "    well  eventnum X531.40..488.  X572.27..488.  X692.40..488.  \\\n",
       "81   D10  164147.0     11.253031       2.436233       2.282435   \n",
       "159  G16  318516.0     26.301645       6.156979      28.535356   \n",
       "161  G18  324036.0     16.813068       6.149196       5.794293   \n",
       "224  I06  369889.0     23.274605       5.072245      19.621157   \n",
       "237  I19  398538.0     16.573773       2.592366      27.184802   \n",
       "279  K13  489212.0     15.685400       2.341568       3.320781   \n",
       "281  K15  493996.0     24.561721       6.502035      17.745346   \n",
       "318  M04  575465.0     26.249946       1.986533       4.253272   \n",
       "336  M22  617443.0     26.911112       6.769653      40.292537   \n",
       "351  N13  647673.0     27.955816       5.366304      39.479761   \n",
       "360  N22  625130.0     25.159141       5.146202      30.634166   \n",
       "376  O14  707147.0     19.820707       4.351830      13.465157   \n",
       "395  P09  766737.0     16.728219       3.056965      15.936486   \n",
       "\n",
       "     Trigger.Pulse.Width        SSC       FSC  estimated_diameter  \n",
       "81               10316.0   1.213004  1.819742                0.23  \n",
       "159              13773.0   2.080541  1.026196                0.18  \n",
       "161              11421.0   6.783939  1.026341                0.18  \n",
       "224              14394.0   4.029820  1.225341                0.19  \n",
       "237              13475.0   9.950932  1.075514                0.18  \n",
       "279              11546.0   3.686289  1.026341                0.18  \n",
       "281              13898.0   7.016659  1.237977                0.19  \n",
       "318              14156.0   2.502865  1.113035                0.19  \n",
       "336              14022.0  18.569441  1.026341                0.18  \n",
       "351              14492.0  15.356042  1.208750                0.19  \n",
       "360              13645.0  11.945641  1.025764                0.18  \n",
       "376              12974.0   7.303405  1.199106                0.19  \n",
       "395              11831.0   6.442910  1.289474                0.20  \n",
       "\n",
       "[13 rows x 22 columns]"
      ]
     },
     "execution_count": 43,
     "metadata": {},
     "output_type": "execute_result"
    }
   ],
   "source": [
    "fcdf[(fcdf['X531.40..488.'] < 50) & (fcdf['gc_content'] > 40)]"
   ]
  },
  {
   "cell_type": "markdown",
   "id": "8737218e-b920-4ed4-86af-1203d3cebb18",
   "metadata": {},
   "source": [
    "Explore their assembly outputs and QC directories. What do you think these "
   ]
  }
 ],
 "metadata": {
  "kernelspec": {
   "display_name": "biopy",
   "language": "python",
   "name": "biopy"
  },
  "language_info": {
   "codemirror_mode": {
    "name": "ipython",
    "version": 3
   },
   "file_extension": ".py",
   "mimetype": "text/x-python",
   "name": "python",
   "nbconvert_exporter": "python",
   "pygments_lexer": "ipython3",
   "version": "3.10.0"
  }
 },
 "nbformat": 4,
 "nbformat_minor": 5
}
