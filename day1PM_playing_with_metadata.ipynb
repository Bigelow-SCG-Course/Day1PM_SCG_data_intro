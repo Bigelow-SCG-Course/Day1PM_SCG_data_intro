{
 "cells": [
  {
   "cell_type": "markdown",
   "id": "5abf5497-6f58-433a-ac93-bf57d812bb0f",
   "metadata": {},
   "source": [
    "The purpose of this notebook is to go look through some of the metadata associated with SAG plate AG-910.  \n",
    "\n",
    "Make sure you are using the biopy kernel when running this notebook."
   ]
  },
  {
   "cell_type": "code",
   "execution_count": 2,
   "id": "c40e2a4e-2f16-4053-8879-0358496313e7",
   "metadata": {},
   "outputs": [],
   "source": [
    "import pandas as pd\n",
    "import matplotlib.pyplot as plt\n",
    "import seaborn as sns # additional plotting library that allows us to make nice looking, simple plots easily"
   ]
  },
  {
   "cell_type": "code",
   "execution_count": 24,
   "id": "b8f7a3c0-b875-4762-9598-fb14a4701649",
   "metadata": {},
   "outputs": [],
   "source": [
    "assembly_stats_file = \"/mnt/storage/data/sag_deliverables/AG-910_assembly_stats_updated.csv\"\n",
    "df = pd.read_csv(assembly_stats_file)"
   ]
  },
  {
   "cell_type": "markdown",
   "id": "0399bdc9-a121-4471-9a16-d9ded29a5ec0",
   "metadata": {},
   "source": [
    "What columns are in this data frame?"
   ]
  },
  {
   "cell_type": "code",
   "execution_count": 5,
   "id": "f718651a-ecdf-484d-8dc5-936dd3cee39c",
   "metadata": {},
   "outputs": [
    {
     "data": {
      "text/plain": [
       "Index(['Sample_ID', 'well_type', 'wga_cp', 'wgs_run_id', 'raw_read_count',\n",
       "       'final_contigs_count', 'final_assembly_length', 'max_contig_length',\n",
       "       'gc_content', 'checkM_estimated_completeness', 'number_multi_copy',\n",
       "       'checkM_classification', 'SSU_classification_1'],\n",
       "      dtype='object')"
      ]
     },
     "execution_count": 5,
     "metadata": {},
     "output_type": "execute_result"
    }
   ],
   "source": [
    "df.columns"
   ]
  },
  {
   "cell_type": "markdown",
   "id": "86d3fd13-d9dd-4015-a46c-1f3978371cfb",
   "metadata": {},
   "source": [
    "Let's look at how these cells line up based on various pieces of metadata:"
   ]
  },
  {
   "cell_type": "code",
   "execution_count": 26,
   "id": "f95f9e83-17b6-47e4-8fb0-368df9bf56d3",
   "metadata": {},
   "outputs": [
    {
     "data": {
      "text/html": [
       "<div>\n",
       "<style scoped>\n",
       "    .dataframe tbody tr th:only-of-type {\n",
       "        vertical-align: middle;\n",
       "    }\n",
       "\n",
       "    .dataframe tbody tr th {\n",
       "        vertical-align: top;\n",
       "    }\n",
       "\n",
       "    .dataframe thead th {\n",
       "        text-align: right;\n",
       "    }\n",
       "</style>\n",
       "<table border=\"1\" class=\"dataframe\">\n",
       "  <thead>\n",
       "    <tr style=\"text-align: right;\">\n",
       "      <th></th>\n",
       "      <th>Sample_ID</th>\n",
       "      <th>well_type</th>\n",
       "      <th>wga_cp</th>\n",
       "      <th>wgs_run_id</th>\n",
       "      <th>raw_read_count</th>\n",
       "      <th>final_contigs_count</th>\n",
       "      <th>final_assembly_length</th>\n",
       "      <th>max_contig_length</th>\n",
       "      <th>gc_content</th>\n",
       "      <th>checkM_estimated_completeness</th>\n",
       "      <th>number_multi_copy</th>\n",
       "      <th>checkM_classification</th>\n",
       "      <th>SSU_classification_1</th>\n",
       "    </tr>\n",
       "  </thead>\n",
       "  <tbody>\n",
       "    <tr>\n",
       "      <th>141</th>\n",
       "      <td>AG-910-F22</td>\n",
       "      <td>1 cell</td>\n",
       "      <td>7.279798</td>\n",
       "      <td>AG-910</td>\n",
       "      <td>598847</td>\n",
       "      <td>10.0</td>\n",
       "      <td>29653.0</td>\n",
       "      <td>4715.0</td>\n",
       "      <td>31.167167</td>\n",
       "      <td>0.00</td>\n",
       "      <td>0.0</td>\n",
       "      <td>NA;unresolved</td>\n",
       "      <td>no SSU regions found</td>\n",
       "    </tr>\n",
       "    <tr>\n",
       "      <th>17</th>\n",
       "      <td>AG-910-A18</td>\n",
       "      <td>1 cell</td>\n",
       "      <td>6.776504</td>\n",
       "      <td>AG-910</td>\n",
       "      <td>517708</td>\n",
       "      <td>7.0</td>\n",
       "      <td>21696.0</td>\n",
       "      <td>4763.0</td>\n",
       "      <td>25.714417</td>\n",
       "      <td>1.01</td>\n",
       "      <td>0.0</td>\n",
       "      <td>k__Archaea (root);k__Archaea</td>\n",
       "      <td>no SSU regions found</td>\n",
       "    </tr>\n",
       "    <tr>\n",
       "      <th>244</th>\n",
       "      <td>AG-910-K05</td>\n",
       "      <td>1 cell</td>\n",
       "      <td>5.763241</td>\n",
       "      <td>AG-910</td>\n",
       "      <td>200826</td>\n",
       "      <td>6.0</td>\n",
       "      <td>27436.0</td>\n",
       "      <td>7854.0</td>\n",
       "      <td>40.971716</td>\n",
       "      <td>4.17</td>\n",
       "      <td>0.0</td>\n",
       "      <td>NA;unresolved</td>\n",
       "      <td>no SSU regions found</td>\n",
       "    </tr>\n",
       "    <tr>\n",
       "      <th>328</th>\n",
       "      <td>AG-910-N17</td>\n",
       "      <td>1 cell</td>\n",
       "      <td>5.500438</td>\n",
       "      <td>AG-910</td>\n",
       "      <td>625539</td>\n",
       "      <td>8.0</td>\n",
       "      <td>27225.0</td>\n",
       "      <td>4603.0</td>\n",
       "      <td>28.624426</td>\n",
       "      <td>0.00</td>\n",
       "      <td>0.0</td>\n",
       "      <td>NA;unresolved</td>\n",
       "      <td>no SSU regions found</td>\n",
       "    </tr>\n",
       "    <tr>\n",
       "      <th>283</th>\n",
       "      <td>AG-910-L20</td>\n",
       "      <td>1 cell</td>\n",
       "      <td>5.187745</td>\n",
       "      <td>AG-910</td>\n",
       "      <td>695829</td>\n",
       "      <td>9.0</td>\n",
       "      <td>31542.0</td>\n",
       "      <td>6252.0</td>\n",
       "      <td>30.201002</td>\n",
       "      <td>1.89</td>\n",
       "      <td>0.0</td>\n",
       "      <td>k__Bacteria;p__Proteobacteria;c__Alphaproteoba...</td>\n",
       "      <td>no SSU regions found</td>\n",
       "    </tr>\n",
       "    <tr>\n",
       "      <th>...</th>\n",
       "      <td>...</td>\n",
       "      <td>...</td>\n",
       "      <td>...</td>\n",
       "      <td>...</td>\n",
       "      <td>...</td>\n",
       "      <td>...</td>\n",
       "      <td>...</td>\n",
       "      <td>...</td>\n",
       "      <td>...</td>\n",
       "      <td>...</td>\n",
       "      <td>...</td>\n",
       "      <td>...</td>\n",
       "      <td>...</td>\n",
       "    </tr>\n",
       "    <tr>\n",
       "      <th>26</th>\n",
       "      <td>AG-910-B03</td>\n",
       "      <td>1 cell</td>\n",
       "      <td>1.824609</td>\n",
       "      <td>AG-910</td>\n",
       "      <td>2560755</td>\n",
       "      <td>16.0</td>\n",
       "      <td>550431.0</td>\n",
       "      <td>96416.0</td>\n",
       "      <td>29.898934</td>\n",
       "      <td>49.40</td>\n",
       "      <td>0.0</td>\n",
       "      <td>k__Bacteria;p__Proteobacteria;c__Alphaproteoba...</td>\n",
       "      <td>no SSU regions found</td>\n",
       "    </tr>\n",
       "    <tr>\n",
       "      <th>1</th>\n",
       "      <td>AG-910-A02</td>\n",
       "      <td>1 cell</td>\n",
       "      <td>1.769893</td>\n",
       "      <td>AG-910</td>\n",
       "      <td>2596242</td>\n",
       "      <td>26.0</td>\n",
       "      <td>502406.0</td>\n",
       "      <td>120161.0</td>\n",
       "      <td>33.125002</td>\n",
       "      <td>40.52</td>\n",
       "      <td>0.0</td>\n",
       "      <td>k__Bacteria;p__Proteobacteria;c__Gammaproteoba...</td>\n",
       "      <td>k__Bacteria;p__Proteobacteria;c__Gammaproteoba...</td>\n",
       "    </tr>\n",
       "    <tr>\n",
       "      <th>237</th>\n",
       "      <td>AG-910-J22</td>\n",
       "      <td>1 cell</td>\n",
       "      <td>1.751644</td>\n",
       "      <td>AG-910</td>\n",
       "      <td>3982492</td>\n",
       "      <td>36.0</td>\n",
       "      <td>1096647.0</td>\n",
       "      <td>186782.0</td>\n",
       "      <td>29.751141</td>\n",
       "      <td>80.72</td>\n",
       "      <td>0.0</td>\n",
       "      <td>k__Bacteria;p__Proteobacteria;c__Alphaproteoba...</td>\n",
       "      <td>k__Bacteria;p__Proteobacteria;c__Alphaproteoba...</td>\n",
       "    </tr>\n",
       "    <tr>\n",
       "      <th>49</th>\n",
       "      <td>AG-910-C02</td>\n",
       "      <td>1 cell</td>\n",
       "      <td>1.747823</td>\n",
       "      <td>AG-910</td>\n",
       "      <td>2274341</td>\n",
       "      <td>24.0</td>\n",
       "      <td>936322.0</td>\n",
       "      <td>204747.0</td>\n",
       "      <td>34.801810</td>\n",
       "      <td>66.20</td>\n",
       "      <td>0.0</td>\n",
       "      <td>k__Bacteria;p__Proteobacteria;c__Gammaproteoba...</td>\n",
       "      <td>k__Bacteria;p__Proteobacteria;c__Gammaproteoba...</td>\n",
       "    </tr>\n",
       "    <tr>\n",
       "      <th>332</th>\n",
       "      <td>AG-910-N21</td>\n",
       "      <td>1 cell</td>\n",
       "      <td>1.722054</td>\n",
       "      <td>AG-910</td>\n",
       "      <td>2679743</td>\n",
       "      <td>45.0</td>\n",
       "      <td>1383495.0</td>\n",
       "      <td>154737.0</td>\n",
       "      <td>36.835767</td>\n",
       "      <td>46.87</td>\n",
       "      <td>0.0</td>\n",
       "      <td>k__Bacteria;p__Proteobacteria;c__Alphaproteoba...</td>\n",
       "      <td>no SSU regions found</td>\n",
       "    </tr>\n",
       "  </tbody>\n",
       "</table>\n",
       "<p>226 rows × 13 columns</p>\n",
       "</div>"
      ],
      "text/plain": [
       "      Sample_ID well_type    wga_cp wgs_run_id  raw_read_count  \\\n",
       "141  AG-910-F22    1 cell  7.279798     AG-910          598847   \n",
       "17   AG-910-A18    1 cell  6.776504     AG-910          517708   \n",
       "244  AG-910-K05    1 cell  5.763241     AG-910          200826   \n",
       "328  AG-910-N17    1 cell  5.500438     AG-910          625539   \n",
       "283  AG-910-L20    1 cell  5.187745     AG-910          695829   \n",
       "..          ...       ...       ...        ...             ...   \n",
       "26   AG-910-B03    1 cell  1.824609     AG-910         2560755   \n",
       "1    AG-910-A02    1 cell  1.769893     AG-910         2596242   \n",
       "237  AG-910-J22    1 cell  1.751644     AG-910         3982492   \n",
       "49   AG-910-C02    1 cell  1.747823     AG-910         2274341   \n",
       "332  AG-910-N21    1 cell  1.722054     AG-910         2679743   \n",
       "\n",
       "     final_contigs_count  final_assembly_length  max_contig_length  \\\n",
       "141                 10.0                29653.0             4715.0   \n",
       "17                   7.0                21696.0             4763.0   \n",
       "244                  6.0                27436.0             7854.0   \n",
       "328                  8.0                27225.0             4603.0   \n",
       "283                  9.0                31542.0             6252.0   \n",
       "..                   ...                    ...                ...   \n",
       "26                  16.0               550431.0            96416.0   \n",
       "1                   26.0               502406.0           120161.0   \n",
       "237                 36.0              1096647.0           186782.0   \n",
       "49                  24.0               936322.0           204747.0   \n",
       "332                 45.0              1383495.0           154737.0   \n",
       "\n",
       "     gc_content  checkM_estimated_completeness  number_multi_copy  \\\n",
       "141   31.167167                           0.00                0.0   \n",
       "17    25.714417                           1.01                0.0   \n",
       "244   40.971716                           4.17                0.0   \n",
       "328   28.624426                           0.00                0.0   \n",
       "283   30.201002                           1.89                0.0   \n",
       "..          ...                            ...                ...   \n",
       "26    29.898934                          49.40                0.0   \n",
       "1     33.125002                          40.52                0.0   \n",
       "237   29.751141                          80.72                0.0   \n",
       "49    34.801810                          66.20                0.0   \n",
       "332   36.835767                          46.87                0.0   \n",
       "\n",
       "                                 checkM_classification  \\\n",
       "141                                      NA;unresolved   \n",
       "17                        k__Archaea (root);k__Archaea   \n",
       "244                                      NA;unresolved   \n",
       "328                                      NA;unresolved   \n",
       "283  k__Bacteria;p__Proteobacteria;c__Alphaproteoba...   \n",
       "..                                                 ...   \n",
       "26   k__Bacteria;p__Proteobacteria;c__Alphaproteoba...   \n",
       "1    k__Bacteria;p__Proteobacteria;c__Gammaproteoba...   \n",
       "237  k__Bacteria;p__Proteobacteria;c__Alphaproteoba...   \n",
       "49   k__Bacteria;p__Proteobacteria;c__Gammaproteoba...   \n",
       "332  k__Bacteria;p__Proteobacteria;c__Alphaproteoba...   \n",
       "\n",
       "                                  SSU_classification_1  \n",
       "141                               no SSU regions found  \n",
       "17                                no SSU regions found  \n",
       "244                               no SSU regions found  \n",
       "328                               no SSU regions found  \n",
       "283                               no SSU regions found  \n",
       "..                                                 ...  \n",
       "26                                no SSU regions found  \n",
       "1    k__Bacteria;p__Proteobacteria;c__Gammaproteoba...  \n",
       "237  k__Bacteria;p__Proteobacteria;c__Alphaproteoba...  \n",
       "49   k__Bacteria;p__Proteobacteria;c__Gammaproteoba...  \n",
       "332                               no SSU regions found  \n",
       "\n",
       "[226 rows x 13 columns]"
      ]
     },
     "execution_count": 26,
     "metadata": {},
     "output_type": "execute_result"
    }
   ],
   "source": [
    "# let's examine 'successful' cells, those with a final assembly length > 20kb\n",
    "\n",
    "df = df[(df['final_assembly_length'] >= 20000) & (df['well_type'] == '1 cell')]\n",
    "df.sort_values(by = 'wga_cp', ascending = False)"
   ]
  },
  {
   "cell_type": "markdown",
   "id": "50d458bb-6cb2-44a4-9e08-8ab804d9b8db",
   "metadata": {},
   "source": [
    "To get an overall description of the numeric columns, you can use the pd.describe() method:"
   ]
  },
  {
   "cell_type": "code",
   "execution_count": 34,
   "id": "d589f15f-7fae-4247-bb27-6cb42a10c2d4",
   "metadata": {},
   "outputs": [
    {
     "data": {
      "text/html": [
       "<div>\n",
       "<style scoped>\n",
       "    .dataframe tbody tr th:only-of-type {\n",
       "        vertical-align: middle;\n",
       "    }\n",
       "\n",
       "    .dataframe tbody tr th {\n",
       "        vertical-align: top;\n",
       "    }\n",
       "\n",
       "    .dataframe thead th {\n",
       "        text-align: right;\n",
       "    }\n",
       "</style>\n",
       "<table border=\"1\" class=\"dataframe\">\n",
       "  <thead>\n",
       "    <tr style=\"text-align: right;\">\n",
       "      <th></th>\n",
       "      <th>wga_cp</th>\n",
       "      <th>raw_read_count</th>\n",
       "      <th>final_contigs_count</th>\n",
       "      <th>final_assembly_length</th>\n",
       "      <th>max_contig_length</th>\n",
       "      <th>gc_content</th>\n",
       "      <th>checkM_estimated_completeness</th>\n",
       "      <th>number_multi_copy</th>\n",
       "    </tr>\n",
       "  </thead>\n",
       "  <tbody>\n",
       "    <tr>\n",
       "      <th>count</th>\n",
       "      <td>226.000000</td>\n",
       "      <td>2.260000e+02</td>\n",
       "      <td>226.000000</td>\n",
       "      <td>2.260000e+02</td>\n",
       "      <td>226.000000</td>\n",
       "      <td>226.000000</td>\n",
       "      <td>226.000000</td>\n",
       "      <td>226.000000</td>\n",
       "    </tr>\n",
       "    <tr>\n",
       "      <th>mean</th>\n",
       "      <td>2.543889</td>\n",
       "      <td>2.222619e+06</td>\n",
       "      <td>30.070796</td>\n",
       "      <td>5.882286e+05</td>\n",
       "      <td>97201.115044</td>\n",
       "      <td>31.726725</td>\n",
       "      <td>37.688451</td>\n",
       "      <td>0.022124</td>\n",
       "    </tr>\n",
       "    <tr>\n",
       "      <th>std</th>\n",
       "      <td>0.820294</td>\n",
       "      <td>1.397194e+06</td>\n",
       "      <td>15.091553</td>\n",
       "      <td>3.793381e+05</td>\n",
       "      <td>72127.020420</td>\n",
       "      <td>5.263667</td>\n",
       "      <td>26.050413</td>\n",
       "      <td>0.174984</td>\n",
       "    </tr>\n",
       "    <tr>\n",
       "      <th>min</th>\n",
       "      <td>1.722054</td>\n",
       "      <td>6.158900e+04</td>\n",
       "      <td>2.000000</td>\n",
       "      <td>2.169600e+04</td>\n",
       "      <td>4603.000000</td>\n",
       "      <td>22.885452</td>\n",
       "      <td>0.000000</td>\n",
       "      <td>0.000000</td>\n",
       "    </tr>\n",
       "    <tr>\n",
       "      <th>25%</th>\n",
       "      <td>2.074146</td>\n",
       "      <td>6.176092e+05</td>\n",
       "      <td>20.000000</td>\n",
       "      <td>2.324260e+05</td>\n",
       "      <td>40837.250000</td>\n",
       "      <td>29.447514</td>\n",
       "      <td>12.677500</td>\n",
       "      <td>0.000000</td>\n",
       "    </tr>\n",
       "    <tr>\n",
       "      <th>50%</th>\n",
       "      <td>2.301344</td>\n",
       "      <td>2.552710e+06</td>\n",
       "      <td>30.000000</td>\n",
       "      <td>6.328365e+05</td>\n",
       "      <td>90563.000000</td>\n",
       "      <td>30.129477</td>\n",
       "      <td>40.540000</td>\n",
       "      <td>0.000000</td>\n",
       "    </tr>\n",
       "    <tr>\n",
       "      <th>75%</th>\n",
       "      <td>2.615989</td>\n",
       "      <td>3.260680e+06</td>\n",
       "      <td>39.750000</td>\n",
       "      <td>8.805288e+05</td>\n",
       "      <td>132836.000000</td>\n",
       "      <td>31.886013</td>\n",
       "      <td>56.630000</td>\n",
       "      <td>0.000000</td>\n",
       "    </tr>\n",
       "    <tr>\n",
       "      <th>max</th>\n",
       "      <td>7.279798</td>\n",
       "      <td>5.080878e+06</td>\n",
       "      <td>77.000000</td>\n",
       "      <td>1.930694e+06</td>\n",
       "      <td>376794.000000</td>\n",
       "      <td>62.754383</td>\n",
       "      <td>93.190000</td>\n",
       "      <td>2.000000</td>\n",
       "    </tr>\n",
       "  </tbody>\n",
       "</table>\n",
       "</div>"
      ],
      "text/plain": [
       "           wga_cp  raw_read_count  final_contigs_count  final_assembly_length  \\\n",
       "count  226.000000    2.260000e+02           226.000000           2.260000e+02   \n",
       "mean     2.543889    2.222619e+06            30.070796           5.882286e+05   \n",
       "std      0.820294    1.397194e+06            15.091553           3.793381e+05   \n",
       "min      1.722054    6.158900e+04             2.000000           2.169600e+04   \n",
       "25%      2.074146    6.176092e+05            20.000000           2.324260e+05   \n",
       "50%      2.301344    2.552710e+06            30.000000           6.328365e+05   \n",
       "75%      2.615989    3.260680e+06            39.750000           8.805288e+05   \n",
       "max      7.279798    5.080878e+06            77.000000           1.930694e+06   \n",
       "\n",
       "       max_contig_length  gc_content  checkM_estimated_completeness  \\\n",
       "count         226.000000  226.000000                     226.000000   \n",
       "mean        97201.115044   31.726725                      37.688451   \n",
       "std         72127.020420    5.263667                      26.050413   \n",
       "min          4603.000000   22.885452                       0.000000   \n",
       "25%         40837.250000   29.447514                      12.677500   \n",
       "50%         90563.000000   30.129477                      40.540000   \n",
       "75%        132836.000000   31.886013                      56.630000   \n",
       "max        376794.000000   62.754383                      93.190000   \n",
       "\n",
       "       number_multi_copy  \n",
       "count         226.000000  \n",
       "mean            0.022124  \n",
       "std             0.174984  \n",
       "min             0.000000  \n",
       "25%             0.000000  \n",
       "50%             0.000000  \n",
       "75%             0.000000  \n",
       "max             2.000000  "
      ]
     },
     "execution_count": 34,
     "metadata": {},
     "output_type": "execute_result"
    }
   ],
   "source": [
    "df.describe()"
   ]
  },
  {
   "cell_type": "markdown",
   "id": "a42b4eaa-af61-4158-ab84-2350cca27307",
   "metadata": {},
   "source": [
    "To look into distributions of values, use ```sns.histplot```"
   ]
  },
  {
   "cell_type": "code",
   "execution_count": 30,
   "id": "18196496-7b9a-48ee-885f-a375e3bfd4dd",
   "metadata": {},
   "outputs": [
    {
     "data": {
      "text/plain": [
       "<AxesSubplot:xlabel='gc_content', ylabel='Count'>"
      ]
     },
     "execution_count": 30,
     "metadata": {},
     "output_type": "execute_result"
    },
    {
     "data": {
      "image/png": "[encoded data removed]",
      "text/plain": [
       "<Figure size 432x288 with 1 Axes>"
      ]
     },
     "metadata": {
      "needs_background": "light"
     },
     "output_type": "display_data"
    }
   ],
   "source": [
    "# gc_content distribution\n",
    "\n",
    "sns.histplot(df['gc_content'])"
   ]
  },
  {
   "cell_type": "code",
   "execution_count": 33,
   "id": "4d13a34a-dcff-452a-b24e-a9490a39b43f",
   "metadata": {},
   "outputs": [
    {
     "data": {
      "text/plain": [
       "<AxesSubplot:xlabel='final_assembly_length', ylabel='Count'>"
      ]
     },
     "execution_count": 33,
     "metadata": {},
     "output_type": "execute_result"
    },
    {
     "data": {
      "image/png": "[encoded data removed]",
      "text/plain": [
       "<Figure size 432x288 with 1 Axes>"
      ]
     },
     "metadata": {
      "needs_background": "light"
     },
     "output_type": "display_data"
    }
   ],
   "source": [
    "# assembly length distribution\n",
    "\n",
    "sns.histplot(df['final_assembly_length'])"
   ]
  },
  {
   "cell_type": "code",
   "execution_count": 54,
   "id": "38b26b24-0cde-4816-8ce8-6d206d8568d7",
   "metadata": {},
   "outputs": [
    {
     "name": "stdout",
     "output_type": "stream",
     "text": [
      "How many cells contained identified 16S gene?\n"
     ]
    },
    {
     "data": {
      "text/plain": [
       "Counter({'not found': 159, 'found': 67})"
      ]
     },
     "execution_count": 54,
     "metadata": {},
     "output_type": "execute_result"
    }
   ],
   "source": [
    "from collections import Counter\n",
    "\n",
    "\n",
    "# how many cells were classified\n",
    "print(\"How many cells contained identified 16S gene?\")\n",
    "Counter(['not found' if 'no SSU' in i else 'found' for i in df['SSU_classification_1']])"
   ]
  },
  {
   "cell_type": "markdown",
   "id": "92bc9aff-5568-4f0d-b7a6-70317f13596a",
   "metadata": {},
   "source": [
    "Look at assembly size distribution by phlogenetic Order for 16S containing cells:"
   ]
  },
  {
   "cell_type": "code",
   "execution_count": 63,
   "id": "0f35da26-3cd5-4be4-b48e-1809695e5ff7",
   "metadata": {},
   "outputs": [
    {
     "data": {
      "image/png": "[encoded data removed]",
      "text/plain": [
       "<Figure size 432x288 with 1 Axes>"
      ]
     },
     "metadata": {},
     "output_type": "display_data"
    }
   ],
   "source": [
    "orders = [i if len(i.split(\";\")) == 1 else i.split(\";\")[3].replace(\"o__\",'') for i in df['SSU_classification_1']]\n",
    "\n",
    "sns.boxplot(x = orders, y = df['final_assembly_length'])\n",
    "plt.xticks(rotation = 90)\n",
    "\n",
    "plt.show()"
   ]
  },
  {
   "cell_type": "markdown",
   "id": "d64f839e-477d-4dde-9745-b95167d2f1cf",
   "metadata": {},
   "source": [
    "Ramunas' favorite plot.  \n",
    "It looks better in R, see cp_vs_completeness_stepanauskas.R"
   ]
  },
  {
   "cell_type": "code",
   "execution_count": 41,
   "id": "00d6589c-6016-45db-a4b9-9522fd3ded58",
   "metadata": {},
   "outputs": [
    {
     "data": {
      "text/plain": [
       "<AxesSubplot:xlabel='wga_cp', ylabel='checkM_estimated_completeness'>"
      ]
     },
     "execution_count": 41,
     "metadata": {},
     "output_type": "execute_result"
    },
    {
     "data": {
      "image/png": "[encoded data removed]",
      "text/plain": [
       "<Figure size 432x288 with 1 Axes>"
      ]
     },
     "metadata": {},
     "output_type": "display_data"
    }
   ],
   "source": [
    "plt.style.use('seaborn-white')\n",
    "\n",
    "sns.scatterplot(x = 'wga_cp',\n",
    "                y = 'checkM_estimated_completeness', \n",
    "                data = df, \n",
    "                hue = 'gc_content',\n",
    "                size = 'raw_read_count', \n",
    "               palette = 'viridis')"
   ]
  }
 ],
 "metadata": {
  "kernelspec": {
   "display_name": "biopy",
   "language": "python",
   "name": "biopy"
  },
  "language_info": {
   "codemirror_mode": {
    "name": "ipython",
    "version": 3
   },
   "file_extension": ".py",
   "mimetype": "text/x-python",
   "name": "python",
   "nbconvert_exporter": "python",
   "pygments_lexer": "ipython3",
   "version": "3.10.0"
  }
 },
 "nbformat": 4,
 "nbformat_minor": 5
}
